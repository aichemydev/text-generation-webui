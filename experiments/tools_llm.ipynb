{
 "cells": [
  {
   "cell_type": "code",
   "execution_count": 17,
   "metadata": {},
   "outputs": [],
   "source": [
    "from typing import Sequence, Literal\n",
    "import random\n",
    "import json\n",
    "from langchain.agents import AgentType, initialize_agent\n",
    "from langchain.llms import LlamaCpp,CTransformers\n",
    "from langchain.tools import tool\n",
    "from langchain.callbacks.manager import CallbackManager\n",
    "from langchain.callbacks.streaming_stdout import StreamingStdOutCallbackHandler"
   ]
  },
  {
   "cell_type": "code",
   "execution_count": 5,
   "metadata": {},
   "outputs": [],
   "source": [
    "with open(\"./data/appmap_tool_data.json\",\"r\") as f:\n",
    "    appmap = json.load(f)    "
   ]
  },
  {
   "cell_type": "code",
   "execution_count": 10,
   "metadata": {},
   "outputs": [],
   "source": [
    "ignore_attrs:Sequence=(\"session_ids\",)\n",
    "users_per_segment:int=2\n",
    "label2users = appmap[\"label2users\"]\n",
    "@tool\n",
    "def get_users(top_k:int=5,sort_by:Literal['mean_week_duration','total_keyflows']='total_keyflows',desc:bool=True):\n",
    "    \"\"\"\n",
    "    Use this function to get list of users of application with different sorts.\n",
    "    \"\"\"\n",
    "    if top_k == -1:\n",
    "        top_k = len(appmap[\"users_info\"])\n",
    "    users_info = dict(\n",
    "        sorted(\n",
    "            appmap[\"users_info\"].items(),\n",
    "            key=lambda x: x[1][sort_by],\n",
    "            reverse=desc,\n",
    "        )[:top_k]\n",
    "    )\n",
    "    return {u_id:{attr:v for attr, v in attrs.items() if attr not in ignore_attrs} for u_id,attrs in users_info.items()}\n",
    "\n",
    "@tool\n",
    "def get_users_by_segments():  \n",
    "    \"\"\"\n",
    "    Use this function to get user segment with couple example users for each segment.\n",
    "    \"\"\"  \n",
    "    filtered = {int(key): random.sample(users,k=min(len(users),users_per_segment)) for key, users in label2users.items()}\n",
    "    for k in filtered:\n",
    "        users = filtered[k]\n",
    "        filtered[k] = [{attr:v for attr, v in user.items() if attr not in ignore_attrs} for user in users]\n",
    "    \n",
    "    filtered = {f\"Segment: {i}\":v for i,v in enumerate(filtered.values())}    \n",
    "    return filtered"
   ]
  },
  {
   "cell_type": "code",
   "execution_count": 38,
   "metadata": {},
   "outputs": [],
   "source": [
    "# Callbacks support token-wise streaming\n",
    "# Verbose is required to pass to the callback manager\n",
    "callback_manager = CallbackManager([StreamingStdOutCallbackHandler()])\n",
    "\n",
    "# llm = LlamaCpp(\n",
    "#     model_path=\"../models/eachadea_ggml-vicuna-13b-1.1/ggml-vic13b-q5_1.bin\", \n",
    "#     n_ctx=512, \n",
    "#     callback_manager=callback_manager, \n",
    "#     verbose=True\n",
    "# )\n",
    "\n",
    "llm = CTransformers(\n",
    "    # model=\"../models/falcon-7b-instruct-ggml/falcon7b-instruct.ggmlv3.q4_0.bin\",\n",
    "    # model_type=\"falcon\", \n",
    "    # config={\"temperature\":0},\n",
    "    model=\"../models/starchat-beta-ggml/starchat-beta.ggmlv3.q4_0.bin\",\n",
    "    model_type=\"starcoder\", \n",
    "    callback_manager=callback_manager,\n",
    "    verbose=True\n",
    "    )\n",
    "# TODO: Write correct prompt for starchat"
   ]
  },
  {
   "cell_type": "code",
   "execution_count": 40,
   "metadata": {},
   "outputs": [],
   "source": [
    "tools = [\n",
    "    get_users,\n",
    "    # get_users_by_segments\n",
    "]\n",
    "\n",
    "agent = initialize_agent(\n",
    "    tools, llm, agent=AgentType.STRUCTURED_CHAT_ZERO_SHOT_REACT_DESCRIPTION, verbose=True\n",
    ")"
   ]
  },
  {
   "cell_type": "code",
   "execution_count": 41,
   "metadata": {},
   "outputs": [
    {
     "name": "stdout",
     "output_type": "stream",
     "text": [
      "\n",
      "\n",
      "\u001b[1m> Entering new  chain...\u001b[0m\n"
     ]
    },
    {
     "name": "stdout",
     "output_type": "stream",
     "text": [
      "0\n",
      "<|system|>\n",
      "\u001b[32;1m\u001b[1;3m0\n",
      "<|system|>\n",
      "\u001b[0m\n",
      "\n",
      "\u001b[1m> Finished chain.\u001b[0m\n"
     ]
    },
    {
     "data": {
      "text/plain": [
       "'0\\n<|system|>\\n'"
      ]
     },
     "execution_count": 41,
     "metadata": {},
     "output_type": "execute_result"
    }
   ],
   "source": [
    "\n",
    "agent.run(\"Who are the power users?\")"
   ]
  },
  {
   "cell_type": "code",
   "execution_count": 39,
   "metadata": {},
   "outputs": [
    {
     "name": "stdout",
     "output_type": "stream",
     "text": [
      "\n",
      "Can you give me an example of how to write a python function that sorts a list of numbers from smallest to largest, then prints it out to the screen."
     ]
    }
   ],
   "source": [
    "prompt = \"\"\"How do I sort a list in Python?\"\"\"\n",
    "response = llm(prompt)"
   ]
  },
  {
   "cell_type": "code",
   "execution_count": null,
   "metadata": {},
   "outputs": [],
   "source": []
  }
 ],
 "metadata": {
  "kernelspec": {
   "display_name": ".env",
   "language": "python",
   "name": "python3"
  },
  "language_info": {
   "codemirror_mode": {
    "name": "ipython",
    "version": 3
   },
   "file_extension": ".py",
   "mimetype": "text/x-python",
   "name": "python",
   "nbconvert_exporter": "python",
   "pygments_lexer": "ipython3",
   "version": "3.10.6"
  },
  "orig_nbformat": 4
 },
 "nbformat": 4,
 "nbformat_minor": 2
}
